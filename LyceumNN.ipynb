{
 "cells": [
  {
   "cell_type": "code",
   "execution_count": 1,
   "id": "086dd112-db9f-47d8-a804-10bd2db5e411",
   "metadata": {},
   "outputs": [],
   "source": [
    "import numpy as np\n",
    "import torch\n",
    "from torch import nn\n",
    "from torch.nn import functional as fun\n",
    "from torch.autograd import Variable\n",
    "import pandas as pd\n",
    "import os\n",
    "from random import randint\n",
    "from math import sqrt"
   ]
  },
  {
   "cell_type": "code",
   "execution_count": 2,
   "id": "3529a0ba-dc6e-4888-b460-d547c26b0a17",
   "metadata": {},
   "outputs": [],
   "source": [
    "width = 16\n",
    "height = 13"
   ]
  },
  {
   "cell_type": "code",
   "execution_count": 3,
   "id": "47b5b44f-8f9e-4ca0-9806-5275aac14ace",
   "metadata": {},
   "outputs": [],
   "source": [
    "# Создание карты объектов\n",
    "def random_map():\n",
    "    free_map = np.ones((height, width))  # Карта свободных клеток (нунжна только для генерации)\n",
    "    free_map[(height - 1) // 2][(width - 1) // 2] = 0  # Координата главного персонажа занята\n",
    "    # print((height - 1) // 2, (width - 1) // 2)\n",
    "\n",
    "    count_citizen = randint(0, 5)  # Количество жителей\n",
    "    # Генерация\n",
    "    citizen_map = np.zeros((height, width))\n",
    "    for i in range(count_citizen):\n",
    "        while True:\n",
    "            coord = randint(0, height - 1), randint(0, width - 1)\n",
    "            if free_map[coord]:\n",
    "                free_map[coord] = 0\n",
    "                citizen_map[coord] = randint(1, 3)  # Дружелюбность жителя\n",
    "                break\n",
    "\n",
    "    count_loot = randint(0, 5)  # Количество сундуков\n",
    "    # Генерация\n",
    "    x = randint(1, 3)  # Насколько нужен лут\n",
    "    loot_map = np.zeros((height, width))\n",
    "    for i in range(count_loot):\n",
    "        while True:\n",
    "            coord = randint(0, height - 1), randint(0, width - 1)\n",
    "            if free_map[coord]:\n",
    "                free_map[coord] = 0\n",
    "                loot_map[coord] = x # Количество лута в сундуке не известно персонажу\n",
    "                break\n",
    "\n",
    "    count_enemy = randint(0, 5)  # Количество врагов\n",
    "    # Генерация\n",
    "    enemy_map = np.zeros((height, width))\n",
    "    for i in range(count_enemy):\n",
    "        while True:\n",
    "            coord = randint(0, height - 1), randint(0, width - 1)\n",
    "            if free_map[coord]:\n",
    "                free_map[coord] = 0\n",
    "                enemy_map[coord] = randint(1, 3)  # Сила врага\n",
    "                break\n",
    "    all_map = [['..'] * (width + 1) for _ in range(height + 1)]\n",
    "    all_map = np.array(all_map)\n",
    "    def to_two(x):\n",
    "        x = str(x)\n",
    "        if len(x) == 1:\n",
    "            x += ' '\n",
    "        return x\n",
    "    all_map[0, :] = tuple(map(to_two, range(0, width + 1)))\n",
    "    all_map[:, 0] = tuple(map(to_two, range(0, height + 1)))\n",
    "    all_map[height // 2 + 1][width // 2 + 1] = 'me'\n",
    "    for i, (c_l, l_l, e_l) in enumerate(zip(citizen_map, loot_map, enemy_map)):\n",
    "        for j, (c, l, e) in enumerate(zip(c_l, l_l, e_l)):\n",
    "            if c != 0:\n",
    "                all_map[i + 1][j + 1] = f'c{int(c)}'\n",
    "            if l != 0:\n",
    "                all_map[i + 1][j + 1] = f'l{int(l)}'\n",
    "            if e != 0:\n",
    "                all_map[i + 1][j + 1] = f'e{int(e)}'\n",
    "    # for l in all_map:\n",
    "    #     print(*l)\n",
    "    return multi_map(loot_map, citizen_map, enemy_map)"
   ]
  },
  {
   "cell_type": "code",
   "execution_count": 4,
   "id": "66459c4d-5814-45c6-b2dd-009ac8afa995",
   "metadata": {},
   "outputs": [],
   "source": [
    "def multi_map(*maps):\n",
    "    return np.stack(maps, axis=-1)"
   ]
  },
  {
   "cell_type": "code",
   "execution_count": 52,
   "id": "97d88930-a482-429e-b6ef-aab34be537cf",
   "metadata": {},
   "outputs": [],
   "source": [
    "class Net(nn.Module):\n",
    "    def __init__(self):\n",
    "        super(Net, self).__init__()\n",
    "        self.fc1 = nn.Linear(3*13*16, 200)\n",
    "        self.fc2 = nn.Linear(200, 200)\n",
    "        self.fc3 = nn.Linear(200, 4)\n",
    "\n",
    "    def forward(self, x):\n",
    "        x = fun.relu(self.fc1(x))\n",
    "        x = fun.relu(self.fc2(x))\n",
    "        x = self.fc3(x)\n",
    "        return fun.softmax(x, dim=1)\n",
    "    \n",
    "    def predict(self, numpy_map):\n",
    "        torch_map = torch.from_numpy(numpy_map)\n",
    "        torch_map = torch_map.view(-1, 3*13*16)\n",
    "        return self(torch_map.float()).view(4)"
   ]
  },
  {
   "cell_type": "code",
   "execution_count": 53,
   "id": "5cdb8966-b584-4b38-a340-66e36d6bbe32",
   "metadata": {},
   "outputs": [],
   "source": [
    "class Station:\n",
    "    def __init__(self, map_, parameters):\n",
    "        self.map = map_\n",
    "        self.parameters = np.array(parameters)\n",
    "    \n",
    "    def _get_one_value(self, x, y):\n",
    "        sm = np.zeros((3))\n",
    "        for i in range(max(x - 1, 0), min(x + 2, self.map.shape[0])):\n",
    "            for j in range(max(y - 1, 0), min(y + 2, self.map.shape[1])):\n",
    "                sm += self.map[i, j] / max(sqrt(((i - 1) ** 2 + (j - 1) ** 2)), 1)\n",
    "        return sm\n",
    "    \n",
    "    def calculate(self):\n",
    "        sm = np.zeros((4, 3))\n",
    "        to_draw = np.zeros((13, 16))\n",
    "        sides_sum = (height + width) / 2\n",
    "        functions = (lambda x, y: x + 1 <= y and x + y < sides_sum - 1,\n",
    "                     lambda x, y: x >= y and x + y < sides_sum,\n",
    "                     lambda x, y: x + 1 >= y and x + y > sides_sum,\n",
    "                     lambda x, y: x + 2 <= y and x + y > sides_sum - 1)\n",
    "        for i in range(height):\n",
    "            for j in range(width):\n",
    "                mask = np.array([f(i, j) for f in functions])\n",
    "                v, = np.where(mask == 1)\n",
    "                to_draw[i, j] += v\n",
    "                sm[mask] += self._get_one_value(i, j)\n",
    "        sm = np.abs(sm - self.parameters)\n",
    "        sm[:, 2] *= -1\n",
    "        sm = np.sum(sm, axis=1)\n",
    "        return sm\n",
    "    \n",
    "    def get(self):\n",
    "        value = self.calculate()\n",
    "        value[value < 0] = 0\n",
    "        sm = np.sum(value)\n",
    "        normalize_value = value / sm\n",
    "        return torch.from_numpy(normalize_value)\n"
   ]
  },
  {
   "cell_type": "code",
   "execution_count": 61,
   "id": "1f6a14fc-0fdf-4724-be78-f2e86045ce8d",
   "metadata": {},
   "outputs": [],
   "source": [
    "def save(net):\n",
    "    torch.save(net.state_dict(), './NNsave')\n",
    "\n",
    "def load():\n",
    "    model = Net()\n",
    "    model.load_state_dict(torch.load('./NNsave'))\n",
    "    model.eval()\n",
    "    return model"
   ]
  },
  {
   "cell_type": "code",
   "execution_count": 62,
   "id": "e7e3d040-f8d5-4a3e-bc5b-9bab24554de0",
   "metadata": {},
   "outputs": [],
   "source": [
    "agressive = Net()\n",
    "calm = Net()\n",
    "citizen = Net()\n",
    "enemy = Net()"
   ]
  },
  {
   "cell_type": "code",
   "execution_count": 66,
   "id": "4eeac5b9-4a87-4c65-9d5e-4d52043d08f3",
   "metadata": {},
   "outputs": [],
   "source": [
    "def learn(net, parameters):\n",
    "    learing_rate = 0.2\n",
    "    optimizer = torch.optim.SGD(net.parameters(), lr=learing_rate, momentum=0.9)\n",
    "    criterion = nn.NLLLoss()\n",
    "    for i in range(200):\n",
    "        optimizer.zero_grad()\n",
    "        numpy_map = random_map()\n",
    "        target = Station(numpy_map, parameters).get()\n",
    "        torch_map = Variable(torch.from_numpy(numpy_map),  requires_grad=True)\n",
    "        torch_map = torch_map.view(-1, 3*13*16)\n",
    "        res = net(torch_map.float()).view(4)\n",
    "        if not i % 20:\n",
    "            print( i // 2, \"%\")\n",
    "        loss = criterion(res, target.long())\n",
    "        loss.backward()\n",
    "        optimizer.step()\n",
    "    print('100%')\n",
    "    save(net)"
   ]
  },
  {
   "cell_type": "code",
   "execution_count": 67,
   "id": "a500026a-8173-44af-b756-6f1da1cd0045",
   "metadata": {},
   "outputs": [
    {
     "name": "stdout",
     "output_type": "stream",
     "text": [
      "0 %\n",
      "10 %\n",
      "20 %\n",
      "30 %\n",
      "40 %\n",
      "50 %\n",
      "60 %\n",
      "70 %\n",
      "80 %\n",
      "90 %\n",
      "100%\n"
     ]
    }
   ],
   "source": [
    "learn(calm, (2, 2, 2))"
   ]
  }
 ],
 "metadata": {
  "kernelspec": {
   "display_name": "Python 3 (ipykernel)",
   "language": "python",
   "name": "python3"
  },
  "language_info": {
   "codemirror_mode": {
    "name": "ipython",
    "version": 3
   },
   "file_extension": ".py",
   "mimetype": "text/x-python",
   "name": "python",
   "nbconvert_exporter": "python",
   "pygments_lexer": "ipython3",
   "version": "3.9.7"
  }
 },
 "nbformat": 4,
 "nbformat_minor": 5
}
